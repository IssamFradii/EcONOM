{
  "nbformat": 4,
  "nbformat_minor": 0,
  "metadata": {
    "colab": {
      "provenance": [],
      "authorship_tag": "ABX9TyPPEZVniRGwsQfdk9pnzjnc",
      "include_colab_link": true
    },
    "kernelspec": {
      "name": "ir",
      "display_name": "R"
    },
    "language_info": {
      "name": "R"
    }
  },
  "cells": [
    {
      "cell_type": "markdown",
      "metadata": {
        "id": "view-in-github",
        "colab_type": "text"
      },
      "source": [
        "<a href=\"https://colab.research.google.com/github/xDD5/EcONOM/blob/main/spillover.ipynb\" target=\"_parent\"><img src=\"https://colab.research.google.com/assets/colab-badge.svg\" alt=\"Open In Colab\"/></a>"
      ]
    },
    {
      "cell_type": "code",
      "source": [
        "install.packages(\"googledrive\")\n",
        "install.packages(\"readxl\")\n",
        "install.packages(\"ggplot2\")\n",
        "install.packages(\"reshape\")\n",
        "install.packages(\"urca\")\n",
        "install.packages(\"exuber\")\n",
        "install.packages(\"MultipleBubbles\")"
      ],
      "metadata": {
        "colab": {
          "base_uri": "https://localhost:8080/"
        },
        "id": "gSmLhEnleDpp",
        "outputId": "e990ca33-2256-4756-c79a-f37123697690"
      },
      "execution_count": 4,
      "outputs": [
        {
          "output_type": "stream",
          "name": "stderr",
          "text": [
            "Installing package into ‘/usr/local/lib/R/site-library’\n",
            "(as ‘lib’ is unspecified)\n",
            "\n",
            "Installing package into ‘/usr/local/lib/R/site-library’\n",
            "(as ‘lib’ is unspecified)\n",
            "\n",
            "Installing package into ‘/usr/local/lib/R/site-library’\n",
            "(as ‘lib’ is unspecified)\n",
            "\n",
            "Installing package into ‘/usr/local/lib/R/site-library’\n",
            "(as ‘lib’ is unspecified)\n",
            "\n",
            "also installing the dependencies ‘Rcpp’, ‘plyr’\n",
            "\n",
            "\n",
            "Installing package into ‘/usr/local/lib/R/site-library’\n",
            "(as ‘lib’ is unspecified)\n",
            "\n",
            "Installing package into ‘/usr/local/lib/R/site-library’\n",
            "(as ‘lib’ is unspecified)\n",
            "\n",
            "also installing the dependencies ‘rngtools’, ‘iterators’, ‘snow’, ‘doRNG’, ‘doSNOW’, ‘foreach’, ‘RcppArmadillo’\n",
            "\n",
            "\n",
            "Installing package into ‘/usr/local/lib/R/site-library’\n",
            "(as ‘lib’ is unspecified)\n",
            "\n"
          ]
        }
      ]
    },
    {
      "cell_type": "code",
      "source": [
        "install.packages(\"quantmod\")\n",
        "install.packages(\"readr\")\n",
        "library(quantmod)\n",
        "library(readr)"
      ],
      "metadata": {
        "colab": {
          "base_uri": "https://localhost:8080/"
        },
        "id": "wasVwB0yer-j",
        "outputId": "a3293632-7980-45e6-dcf3-41cf361117dc"
      },
      "execution_count": 5,
      "outputs": [
        {
          "output_type": "stream",
          "name": "stderr",
          "text": [
            "Installing package into ‘/usr/local/lib/R/site-library’\n",
            "(as ‘lib’ is unspecified)\n",
            "\n",
            "also installing the dependencies ‘xts’, ‘zoo’, ‘TTR’\n",
            "\n",
            "\n"
          ]
        }
      ]
    },
    {
      "cell_type": "code",
      "execution_count": 7,
      "metadata": {
        "id": "YJqSX40vd_Zx"
      },
      "outputs": [],
      "source": [
        "# Define stock symbols, start date, and end date\n",
        "stock_symbols <- c(\"AAPL\", \"GOOGL\")  # Replace with the symbols you want\n",
        "start_date <- \"2020-01-01\"\n",
        "end_date <- \"2021-12-31\"\n",
        "\n",
        "# Define interest rate symbol (e.g., 10-year Treasury yield)\n",
        "interest_rate_symbol <- \"^TNX\"  # Replace with the symbol for the interest rate you want\n",
        "\n",
        "# Define exchange rate symbol (e.g., EUR/USD)\n",
        "exchange_rate_symbol <- \"EURUSD=X\"  # Replace with the symbol for the exchange rate you want\n"
      ]
    },
    {
      "cell_type": "code",
      "source": [
        "# Fetch stock market data\n",
        "for (symbol in stock_symbols) {\n",
        "  stock_data <- getSymbols(symbol, from = start_date, to = end_date, auto.assign = FALSE)\n",
        "  write.csv(stock_data, file = paste0(symbol, \"_data.csv\"))\n",
        "}\n",
        "\n",
        "# Fetch interest rate data\n",
        "interest_rate_data <- getSymbols(interest_rate_symbol, from = start_date, to = end_date, auto.assign = FALSE)\n",
        "interest_rate_data <- na.omit(interest_rate_data)  # Remove missing values\n",
        "write.csv(interest_rate_data, file = paste0(interest_rate_symbol, \"_data.csv\"))\n",
        "\n",
        "\n",
        "\n",
        "# Fetch exchange rate data\n",
        "exchange_rate_data <- getSymbols(exchange_rate_symbol, from = start_date, to = end_date, auto.assign = FALSE)\n",
        "write.csv(exchange_rate_data, file = paste0(exchange_rate_symbol, \"_data.csv\"))\n"
      ],
      "metadata": {
        "colab": {
          "base_uri": "https://localhost:8080/"
        },
        "id": "zyDAQPIofojE",
        "outputId": "1b0fdc17-9236-4da4-dc45-00f968f2efea"
      },
      "execution_count": 10,
      "outputs": [
        {
          "output_type": "stream",
          "name": "stderr",
          "text": [
            "Warning message:\n",
            "“^TNX contains missing values. Some functions will not work if objects contain missing values in the middle of the series. Consider using na.omit(), na.approx(), na.fill(), etc to remove or replace them.”\n"
          ]
        }
      ]
    }
  ]
}