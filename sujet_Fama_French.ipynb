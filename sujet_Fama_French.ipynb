{
 "cells": [
  {
   "cell_type": "markdown",
   "metadata": {},
   "source": [
    "# Estimation et test du modèle à 5 facteurs de Fama French (2014)\n",
    "\n",
    "En Asset Pricing, l'excès de rendement d'une action est décomposé de la façon suivante :\n",
    "\n",
    "$$\n",
    "R_{it}-RF_{t} = \\alpha_{i} +\\sum_{j=1}^{k} \\beta_{i}^{j} f_{jt} + e_{it}\n",
    "$$\n",
    "où \n",
    "- $R_{it}$ est le rendement de l'action *i* à la date *t*,\n",
    "- $RF_{t}$ est le taux sans risque à la date *t*,\n",
    "- les $f_{it}, i=1,..,k$ sont *k* facteurs expliquant les variations communes des rendements et le risque non-diversifiable\n",
    "- le $\\beta_{i}^{j},j=1...,k$ est l'exposition de l'actif *i* au facteur $f_{jt}$\n",
    "- $e_{it}$ est la composante spécifique à l'actif *i* représentant le risque diversifiable avec $E(e_{it})=0$\n",
    "\n",
    "Si les facteurs sont correctement choisis, c'est-à-dire qu'ils représentent les variations des rendements anticipés, on aura $\\alpha_{i}=0$ \n",
    "\n",
    "**Fama et French (1993)** (Common risk factors in the returns on stocks and bonds, Journal of Financial Economics, 33 (1) , pp. 3-56) proposent un modèle à trois facteurs afin d'analyser les rendements des actions ou des portefeuilles d'actions. \n",
    "Dans le modèle à 3 facteurs, le rendement moyen d'une action est supposé être corrélé avec :\n",
    "\n",
    "1. le rendement du portefeuille du marché corrigé du taux sans risque : $Mkt-RF$\n",
    "2. la taille (*Size*) de l'entreprise mesurée par sa capitalisation boursière (nombre d'actions en circulation $\\times$ prix d'une action). \n",
    "    - Cet effet est mesuré par le facteur $SML_{t}$ égal à la différence de rendement d'un portefeuille de petites entreprises moins celui d'un portefeuille de grandes entreprises.\n",
    "3. le book to market ratio *B/M* (ratio de la valeur comptable et de la valeur de marché). Une entreprise ayant un ratio B/M elevé sera plutôt sous-évaluée et on s'attend à ce qu'elle ait ura un taux de rendement élevé. \n",
    "    - Cet effet est mesuré par le facteur $HML_{t}$ calculé comme la difference de rendements entre des portefeuilles à haut (high)\n",
    "et faible (Low) ratio B/M\n",
    "\n",
    "Ces trois facteurs ne permettent pas d'expliquer totalement les variations des rendements anticipés.  **Fama et French (2015)** ('A five-factor asset pricing model', Journal of Financial Economics, 116 1-22) ajoutent deux facteurs supplémentaires prenant en compte : \n",
    "\n",
    "4. la profitabilité anticipée des entreprises : des gains anticipés plus élevés ont tendance à augmenter le taux de rendement (toutes choses égales par ailleurs). Le facteur $RMW_{t}$ est la différence de rendement entre un portefeuille d'entreprises à forte (robust) et faible (weak) rentabilité.\n",
    "5. les investissements anticipés des entreprises : des investissements plus élevés ont tendance à réduire le taux de rendement (moins de dividendes donc une valeur de marché plus petite).  Le facteur $CMA_{t}$ est la différence entre un portefeuille d'entreprises à faible nivea d'investissement (conservative) et d'entreprises à fort niveau d'investissement (agressive)\n",
    "\n",
    "L'objectif de cette fiche va être d'utiliser ces facteurs pour estimer la décomposition des rendements d'un ensemble de portefeuilles d'action du NYSE, AMEX et Nasdaq.\n",
    "On vérifiera dans quelle mesure ces facteurs expliquent correctement les rendements anticipés\n",
    "\n",
    "    \n",
    "Les données se trouvent sur le site de Kenneth French\n",
    "https://mba.tuck.dartmouth.edu/pages/faculty/ken.french/data_library.html\n",
    "    \n",
    "    \n",
    "**Dans les parties III et IV, les estimations devront être faites sur la période 1963-07-01 à 2023-07-01**\n",
    "\n",
    "\n",
    "**Vous pouvez ajouter vos réponses (codes, affichage et commentaires des résultats) directement dans le notebook. Vous le sauvergarder avec votre nom.**\n",
    "    \n"
   ]
  },
  {
   "cell_type": "markdown",
   "metadata": {},
   "source": [
    "## I. Les 5 facteurs de Fama-French\n",
    "\n",
    "#### 1. Importation des données \n",
    "\n",
    "Les données des facteurs de 5 facteurs de Fama-French sont stockées dans le fichier \"F-F_Research_Data_5_Factors_2x3.csv\". \n",
    "\n",
    "1. Importez les observations mensuelles de ces facteurs à partir de \"1963-07-01\".\n",
    "2. Vérifiez l'existence de variables manquantes\n",
    "3. Après des transformations appropriées, la date deviendra l'indice des données. \n",
    "4. Construire un dataframe spécifique pour le taux sans risque."
   ]
  },
  {
   "cell_type": "markdown",
   "metadata": {},
   "source": [
    "#### 2. Vérification de l'existence de variables manquantes\n",
    "\n",
    "Vérifiez l'existence de variables manquantes"
   ]
  },
  {
   "cell_type": "markdown",
   "metadata": {},
   "source": [
    "#### 3. Formatage des dates + Taux sans risque\n",
    "\n",
    "1. Transformez les dates en indice du dataframe\n",
    "2. Stockez le taux sans risque RF dans un dataframe spécifique"
   ]
  },
  {
   "cell_type": "markdown",
   "metadata": {},
   "source": [
    "#### 4. Représentation graphique des facteurs\n",
    "\n",
    "Faites la représentation graphique des facteurs "
   ]
  },
  {
   "cell_type": "markdown",
   "metadata": {},
   "source": [
    "#### 5. Statistiques descriptives\n",
    "\n",
    "Calculez la moyenne, le maximum, le minimum, l'écart-type, le skewness, le kurtosis pour chaque facteur\n",
    "\n",
    "    - pour la totalité de l'échantillon\n",
    "    - par année\n",
    "    - par mois"
   ]
  },
  {
   "cell_type": "markdown",
   "metadata": {},
   "source": [
    "#### 6. Matrice de correlation\n",
    "1. Estimez la matrice de corrélation des facteurs et commentez\n",
    "2. Faites une représentation graphique de cette matrice\n",
    "3. Vérifiez la significativité de la corrélation entre les facteurs $HML$ et $SMB$"
   ]
  },
  {
   "cell_type": "markdown",
   "metadata": {},
   "source": [
    "## II. Les 25 portefeuilles formés à partir de B/M et OP\n",
    "\n",
    "On importe les rendements de 25 portefeuilles formés à partir des titres du NYSE, de l'AMEX, du NASDAQ pour lesquels on dispose de toutes les quotations. \n",
    "Ces actions sont réparties en 25 portefeuilles obtenus par le croisement du ratio *B/M*:\n",
    "- divisé en 5 catégories LoBM ou BM1/BM2/BM3/BM4/HiBM ou BM5\n",
    "\n",
    "et de l'Operating Profitability: \n",
    " \n",
    "- divisé en 5 catégories LoOP ou OP1/OP2/OP3/OP4/HiOP ou OP5\n",
    "\n",
    "Ces données se trouvent dans le fichier \"25_Portfolios_BEME_OP_5x5.CSV\"\n",
    "\n",
    "#### 1. Importation des données\n",
    "\n",
    "1. Importez les données\n",
    "2. Transformez les dates au format yyyy-mm-01 (exemple 196307 devient 1963-07-01)\n",
    "3. Transformez les dates en indices\n",
    "4. Sélectionnez les observations à partir de \"1963-07-01\""
   ]
  },
  {
   "cell_type": "markdown",
   "metadata": {},
   "source": [
    "#### 2. Calculez les excès de rendements $R_{it} -RF_{t}$"
   ]
  },
  {
   "cell_type": "markdown",
   "metadata": {},
   "source": [
    "#### 3. Calcul de statistiques descriptives\n",
    "\n",
    "Calculez les rendements moyens pour chaque portefeuille. Que pouvez-vous dire de la relation entre le rendement moyen et \n",
    "- le *B/M* (*value effect*)  ?\n",
    "- le *OP* (*profitability effect*) ?"
   ]
  },
  {
   "cell_type": "markdown",
   "metadata": {},
   "source": [
    "## III. Estimation du modèle à facteurs\n",
    "\n",
    "\n",
    "Pour chaque actif *i*, on dispose de T observations ${r_{i1},...,r_{iT}}$. On peut estimer les trois régressions suivantes : :\n",
    "    \n",
    "### Régression sur le facteur du marché\n",
    "$$ R_{it} - R_{Ft} = \\alpha_{i}+\\beta_{i}(R_{MT}-R_{Ft})+e_{it}$$\n",
    "\n",
    "### Régression sur les 3 facteurs\n",
    "$$ R_{it} - R_{Ft} = \\alpha_{i}+\\beta_{i}(R_{MT}-R_{Ft})+s_{i}SMB_{t}+h_{i}HML_{t}+e_{it}$$\n",
    "\n",
    "### Régression sur les 5 facteurs \n",
    "$$ R_{it} - R_{Ft} = \\alpha_{i}+\\beta_{i}(R_{MT}-R_{Ft})+s_{i}SMB_{t}+h_{i}HML_{t}+r_{i}RMW_{t}+c_{i}CMA_{t}+e_{it}$$\n",
    "\n",
    "- $R_{Ft}$ est le taux sans risque\n",
    "- $R_{MT}$ est le taux de rendement du portefeuille du marché\n",
    "- Le résidu $e_{it}$ représente le risque idiosyncratique (ou risque diversifiable) de chaque actif.\n",
    "- $\\beta_{i}, s_{i}, h_{i},r_{i}, c_{i}$ représentent les expositions à chacun des facteurs\n",
    "- $\\alpha_{i}$ est la constante. Selon la théorie des portefeuilles efficients, on s'attend à avoir $a_{i}=0$. Cette hypothèse peut aussi se justifier par la proposition que l'ensemble des facteurs représentent la totalité des facteurs de risque.\n",
    "\n",
    "#### 1. Construisez une fonction permettant d'estimer ces trois régressions. Vous conserverez comme output :\n",
    "\n",
    "1. les coefficients estimés\n",
    "2. les tstat des coefficients estimés\n",
    "3. les résidus des régressions\n",
    "4. La moyenne des constantes en valeur absolue"
   ]
  },
  {
   "cell_type": "markdown",
   "metadata": {},
   "source": [
    "#### 2. Commentaires des estimations \n",
    "1. Calculez et donnez les noms des portefeuilles pour lesquels le coefficients du rendement du portefeuille du marché est\n",
    "\n",
    "- supérieur à 1\n",
    "- égal à 1\n",
    "- inférieur à 1\n",
    "\n",
    "2. Pour chacun des facteurs HML, SMB et CMA, donnez :\n",
    "    \n",
    "- le nombre d'actifs pour lesquels chacun des facteurs pris un à un n'est pas significatif\n",
    "- les noms des portefeuilles concernés\n",
    "\n",
    "Quels facteurs vous paraissent ne pas avoir un pouvoir explicatif dans les variations des rendements ?\n",
    "     "
   ]
  },
  {
   "cell_type": "markdown",
   "metadata": {},
   "source": [
    "#### 3. Corrélation des résidus\n",
    "\n",
    "1. Calculez la matrice de corrélation des résidus et faites sa visualisation graphique\n",
    "2. Peut-on supposer que les corrélations des résidus sont nulles en moyenne ? Que pouvez-vous en déduire sur la capacité des cinq facteurs à expliquer les variations communes des rendements ?\n"
   ]
  },
  {
   "cell_type": "markdown",
   "metadata": {},
   "source": [
    "#### 4. Affichez et commentez les moyennes des $\\vert \\alpha_{i} \\vert$"
   ]
  },
  {
   "cell_type": "markdown",
   "metadata": {},
   "source": [
    "# IV. GRS test (Gibbon, Ross and Shanken (1989)) of frontier efficiency\n",
    "\n",
    "Le test GRS vérifient si les constantes des régressions des rendements sur les facteurs sont simultanément nulles. L'hypothèse nulle du test GRS est :\n",
    "$$\n",
    "H_{0} : \\alpha_{i}=0, \\forall i=1,...,N\n",
    "$$\n",
    "\n",
    "On note :\n",
    "    \n",
    "- $\\hat{\\alpha}= (\\hat{\\alpha}_{1},\\hat{\\alpha}_{2},...,\\hat{\\alpha}_{N} )'$ le vecteur colonne des N $\\hat{\\alpha}_{i}$\n",
    "- $f_{t} = (f_{1t}, f_{2t},...,f_{kt})'$ le vecteur des *k* facteurs à la date *t*\n",
    "- $\\hat{e}_{t} = (\\hat{e}_{1t},...,\\hat{e}_{Nt})'$ le vecteur des N résidus à la date *t*\n",
    "- $\\bar{f} = \\frac{1}{T}\\sum_{t=1}^{T}f_{t}$ le vecteur des moyennes empiriques des facteurs\n",
    "- $\\hat{\\Omega} = \\frac{1}{T}\\sum_{t=1}^{T}f_{t}f_{t}^{'} - \\bar{f}\\bar{f}^{'}$ la matrice de variance covariance des facteurs\n",
    "- $\\hat{\\Sigma} = \\frac{1}{T-k-1}\\sum_{t=1}^{T}e_{t}e_{t}^{'} $\n",
    "                                                       \n",
    "La statistique du test de nullité simultanée des constantes est :\n",
    "\n",
    "$$\\hat{W}=\\frac{T(T-N-k)}{N(T-k-1)}(1-\\bar{f}^{'}\\hat{\\Omega}^{-1}\\bar{f})\\hat{\\alpha}^{'}\\hat{\\Sigma}^{-1}\\hat{\\alpha}$$\n",
    "                                    \n",
    "Sous $H_{0}$ on a $\\hat{W} \\sim \\mathcal{F}(N,T-N-k)$ \n",
    "                                    \n",
    "#### 1. Programmation et éxecution du test\n",
    "Construire une fonction effectuant le test GRS et appliquez-là aux différents ensembles de facteurs (1, puis 3 puis 5 facteurs)"
   ]
  },
  {
   "cell_type": "markdown",
   "metadata": {},
   "source": [
    "#### 2. Commentaires des résultats des tests\n",
    "Indiquez les réponses du test pour chacun des trois ensembles de facteurs. Existe-t-il un ensemble de facteurs pour lequel les $\\alpha_{i}$ sont tous simultanément égaux à 0 ?"
   ]
  },
  {
   "cell_type": "code",
   "execution_count": null,
   "metadata": {},
   "outputs": [],
   "source": []
  }
 ],
 "metadata": {
  "kernelspec": {
   "display_name": "Python 3",
   "language": "python",
   "name": "python3"
  },
  "language_info": {
   "codemirror_mode": {
    "name": "ipython",
    "version": 3
   },
   "file_extension": ".py",
   "mimetype": "text/x-python",
   "name": "python",
   "nbconvert_exporter": "python",
   "pygments_lexer": "ipython3",
   "version": "3.8.5"
  }
 },
 "nbformat": 4,
 "nbformat_minor": 5
}
