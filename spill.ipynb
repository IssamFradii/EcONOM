{
  "nbformat": 4,
  "nbformat_minor": 0,
  "metadata": {
    "colab": {
      "provenance": [],
      "authorship_tag": "ABX9TyMEq5sWiif+Qw7132IaqPEq",
      "include_colab_link": true
    },
    "kernelspec": {
      "name": "ir",
      "display_name": "R"
    },
    "language_info": {
      "name": "R"
    }
  },
  "cells": [
    {
      "cell_type": "markdown",
      "metadata": {
        "id": "view-in-github",
        "colab_type": "text"
      },
      "source": [
        "<a href=\"https://colab.research.google.com/github/xDD5/EcONOM/blob/main/spill.ipynb\" target=\"_parent\"><img src=\"https://colab.research.google.com/assets/colab-badge.svg\" alt=\"Open In Colab\"/></a>"
      ]
    },
    {
      "cell_type": "markdown",
      "source": [
        "$\\color{red}{Transmission\\,de\\,la\\,Volatilité\\,et\\,des\\,Chocs\\,sur\\,les\\,Marchés\\,Financiers}$\n",
        "\n",
        "---\n",
        "\n",
        "\n"
      ],
      "metadata": {
        "id": "T5cuCvfdqkFp"
      }
    },
    {
      "cell_type": "markdown",
      "source": [
        "Le modèle économétrique que nous utilisons est le suivant :\n",
        "\n",
        "$R_t = \\beta_0 + \\beta_1 I_t + \\beta_2 G_t + \\epsilon_t$\n",
        "\n",
        "Voici la signification des différentes parties de l'équation :\n",
        "\n",
        "- $R_t$ représente les rendements du marché boursier au temps \\(t\\).\n",
        "- $I_t$ représente les taux d'intérêt au temps \\(t\\).\n",
        "- $G_t$ représente le taux de croissance du PIB au temps \\(t\\).\n",
        "- $\\beta_0$ est le terme d'interception, représentant la constante.\n",
        "- $\\beta_1$ est le coefficient des taux d'intérêt, indiquant comment les taux d'intérêt affectent les rendements du marché boursier.\n",
        "- $\\beta_2$ est le coefficient de la croissance du PIB, indiquant comment la croissance du PIB affecte les rendements du marché boursier.\n",
        "- $\\epsilon_t$ représente le terme d'erreur, capturant la variation non expliquée et les événements inattendus affectant les rendements du marché boursier. Qu est ce que vous pensez monsieur si je choisis le covid 19? est ce que vous le retrouvez pertinent ou bien je change le shock .\n",
        "\n",
        "\n",
        "Ce modèle nous permet d'analyser comment les changements à la fois dans les taux d'intérêt et dans la croissance du PIB impactent les rendements du marché boursier.\n"
      ],
      "metadata": {
        "id": "AYfFfBFtlJm0"
      }
    },
    {
      "cell_type": "markdown",
      "source": [
        "Installer et charger les bibliothèques nécessaires"
      ],
      "metadata": {
        "id": "IZT25rYvyl6G"
      }
    },
    {
      "cell_type": "code",
      "source": [
        "install.packages(\"quantmod\")\n",
        "install.packages(\"readr\")\n",
        "library(quantmod)\n",
        "library(readr)\n"
      ],
      "metadata": {
        "colab": {
          "base_uri": "https://localhost:8080/"
        },
        "id": "aD26OO27yqPm",
        "outputId": "a374cd46-919f-4d3d-aef6-5ae99cd9a46a"
      },
      "execution_count": 16,
      "outputs": [
        {
          "output_type": "stream",
          "name": "stderr",
          "text": [
            "Installing package into ‘/usr/local/lib/R/site-library’\n",
            "(as ‘lib’ is unspecified)\n",
            "\n",
            "Installing package into ‘/usr/local/lib/R/site-library’\n",
            "(as ‘lib’ is unspecified)\n",
            "\n"
          ]
        }
      ]
    },
    {
      "cell_type": "code",
      "source": [
        "# Définir les symboles de l'indice CAC 40, du taux d'intérêt et du GDP de l'UE\n",
        "symbole_cac40 <- \"^FCHI\"\n",
        "symbole_taux_interet <- \"^TNX\"\n",
        "\n",
        "getSymbols(symbole_taux_interet, from = date_debut, to = date_fin, auto.assign = TRUE)\n",
        "\n",
        "symbole_gdp_ue <- \"EU_GDP_GROWTH\"\n",
        "\n",
        "getSymbols(symbole_cac40, from = date_debut, to = date_fin, auto.assign = TRUE)\n",
        "\n",
        "donnees_financieres <- cbind(Ad(get(symbole_cac40)), Ad(get(symbole_taux_interet)), Ad(get(symbole_gdp_ue)))\n",
        "write.csv(donnees_financieres, file = \"donnees_financieres.csv\")"
      ],
      "metadata": {
        "colab": {
          "base_uri": "https://localhost:8080/",
          "height": 299
        },
        "id": "55rFCb3Jyuho",
        "outputId": "0d0b2607-682b-45f1-d9f1-b74179d3bd90"
      },
      "execution_count": 29,
      "outputs": [
        {
          "output_type": "stream",
          "name": "stderr",
          "text": [
            "Warning message:\n",
            "“^TNX contains missing values. Some functions will not work if objects contain missing values in the middle of the series. Consider using na.omit(), na.approx(), na.fill(), etc to remove or replace them.”\n"
          ]
        },
        {
          "output_type": "display_data",
          "data": {
            "text/html": [
              "'TNX'"
            ],
            "text/markdown": "'TNX'",
            "text/latex": "'TNX'",
            "text/plain": [
              "[1] \"TNX\""
            ]
          },
          "metadata": {}
        },
        {
          "output_type": "display_data",
          "data": {
            "text/html": [
              "'FCHI'"
            ],
            "text/markdown": "'FCHI'",
            "text/latex": "'FCHI'",
            "text/plain": [
              "[1] \"FCHI\""
            ]
          },
          "metadata": {}
        },
        {
          "output_type": "error",
          "ename": "ERROR",
          "evalue": "ignored",
          "traceback": [
            "Error in get(symbole_cac40): object '^FCHI' not found\nTraceback:\n",
            "1. cbind(Ad(get(symbole_cac40)), Ad(get(symbole_taux_interet)), \n .     Ad(get(symbole_gdp_ue)))",
            "2. Ad(get(symbole_cac40))",
            "3. has.Ad(x)",
            "4. get(symbole_cac40)"
          ]
        }
      ]
    }
  ]
}